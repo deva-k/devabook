{
 "cells": [
  {
   "cell_type": "markdown",
   "metadata": {},
   "source": [
    "# Graph Algorithms"
   ]
  },
  {
   "cell_type": "markdown",
   "metadata": {},
   "source": [
    "*Behind each complex system there is an intricate network that encodes the interactions between the system’s components* {cite:p}`networkscience_albert`"
   ]
  },
  {
   "cell_type": "markdown",
   "metadata": {},
   "source": [
    "* **Cascading failures** (Vulnerability due to interconnectivity) : Electricity grids and pandemic networks are a good example for cascading failures. Due to the interconnectivity and interdependency, a failure/defect in one node at a given point of time $t$ results in the failure of the neighbouring/adjacent nodes. This eventually spreads throughout the network."
   ]
  },
  {
   "cell_type": "code",
   "execution_count": null,
   "metadata": {},
   "outputs": [],
   "source": []
  },
  {
   "cell_type": "markdown",
   "metadata": {},
   "source": [
    "* **Cascading failures** (Vulnerability due to interconnectivity) : Electricity grids and pandemic networks are a good example for cascading failures. Due to the interconnectivity and interdependency, a failure/defect in one node at a given point of time $t$ results in the failure of the neighbouring/adjacent nodes. This eventually spreads throughout the network."
   ]
  },
  {
   "cell_type": "markdown",
   "metadata": {},
   "source": [
    "*Behind each complex system there is an intricate network that encodes the interactions between the system’s components* {cite:p}`holdgraf_rapid_2016`"
   ]
  },
  {
   "cell_type": "markdown",
   "metadata": {},
   "source": [
    "* **Cascading failures** (Vulnerability due to interconnectivity) : Electricity grids and pandemic networks are a good example for cascading failures. Due to the interconnectivity and interdependency, a failure/defect in one node at a given point of time $t$ results in the failure of the neighbouring/adjacent nodes. This eventually spreads throughout the network."
   ]
  },
  {
   "cell_type": "markdown",
   "metadata": {},
   "source": [
    "* **Cascading failures** (Vulnerability due to interconnectivity) : Electricity grids and pandemic networks are a good example for cascading failures. Due to the interconnectivity and interdependency, a failure/defect in one node at a given point of time $t$ results in the failure of the neighbouring/adjacent nodes. This eventually spreads throughout the network."
   ]
  },
  {
   "cell_type": "markdown",
   "metadata": {},
   "source": [
    "*Behind each complex system there is an intricate network that encodes the interactions between the system’s components* {cite:p}`holdgraf_evidence_2014`"
   ]
  },
  {
   "cell_type": "markdown",
   "metadata": {},
   "source": [
    "* **Cascading failures** (Vulnerability due to interconnectivity) : Electricity grids and pandemic networks are a good example for cascading failures. Due to the interconnectivity and interdependency, a failure/defect in one node at a given point of time $t$ results in the failure of the neighbouring/adjacent nodes. This eventually spreads throughout the network."
   ]
  },
  {
   "cell_type": "markdown",
   "metadata": {},
   "source": [
    "* **Cascading failures** (Vulnerability due to interconnectivity) : Electricity grids and pandemic networks are a good example for cascading failures. Due to the interconnectivity and interdependency, a failure/defect in one node at a given point of time $t$ results in the failure of the neighbouring/adjacent nodes. This eventually spreads throughout the network."
   ]
  },
  {
   "cell_type": "markdown",
   "metadata": {},
   "source": [
    "* **Cascading failures** (Vulnerability due to interconnectivity) : Electricity grids and pandemic networks are a good example for cascading failures. Due to the interconnectivity and interdependency, a failure/defect in one node at a given point of time $t$ results in the failure of the neighbouring/adjacent nodes. This eventually spreads throughout the network."
   ]
  },
  {
   "cell_type": "markdown",
   "metadata": {},
   "source": [
    "* **Cascading failures** (Vulnerability due to interconnectivity) : Electricity grids and pandemic networks are a good example for cascading failures. Due to the interconnectivity and interdependency, a failure/defect in one node at a given point of time $t$ results in the failure of the neighbouring/adjacent nodes. This eventually spreads throughout the network."
   ]
  },
  {
   "cell_type": "markdown",
   "metadata": {},
   "source": [
    "## References \n",
    "```{bibliography}\n",
    ":filter: docname in docnames\n",
    ":style: plain\n",
    "```"
   ]
  },
  {
   "cell_type": "code",
   "execution_count": null,
   "metadata": {},
   "outputs": [],
   "source": []
  }
 ],
 "metadata": {
  "kernelspec": {
   "display_name": "Python 3 (ipykernel)",
   "language": "python",
   "name": "python3"
  },
  "language_info": {
   "codemirror_mode": {
    "name": "ipython",
    "version": 3
   },
   "file_extension": ".py",
   "mimetype": "text/x-python",
   "name": "python",
   "nbconvert_exporter": "python",
   "pygments_lexer": "ipython3",
   "version": "3.8.16"
  },
  "toc": {
   "base_numbering": 1,
   "nav_menu": {},
   "number_sections": true,
   "sideBar": true,
   "skip_h1_title": false,
   "title_cell": "Table of Contents",
   "title_sidebar": "Contents",
   "toc_cell": false,
   "toc_position": {},
   "toc_section_display": true,
   "toc_window_display": false
  },
  "varInspector": {
   "cols": {
    "lenName": 16,
    "lenType": 16,
    "lenVar": 40
   },
   "kernels_config": {
    "python": {
     "delete_cmd_postfix": "",
     "delete_cmd_prefix": "del ",
     "library": "var_list.py",
     "varRefreshCmd": "print(var_dic_list())"
    },
    "r": {
     "delete_cmd_postfix": ") ",
     "delete_cmd_prefix": "rm(",
     "library": "var_list.r",
     "varRefreshCmd": "cat(var_dic_list()) "
    }
   },
   "types_to_exclude": [
    "module",
    "function",
    "builtin_function_or_method",
    "instance",
    "_Feature"
   ],
   "window_display": false
  }
 },
 "nbformat": 4,
 "nbformat_minor": 2
}
