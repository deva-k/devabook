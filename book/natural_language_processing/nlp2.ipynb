{
 "cells": [
  {
   "cell_type": "markdown",
   "id": "62aa6508",
   "metadata": {},
   "source": [
    "# Natural Language Processing with NLTK"
   ]
  },
  {
   "cell_type": "markdown",
   "id": "d1653cfa",
   "metadata": {},
   "source": [
    "The process of getting a computer to understand natural language."
   ]
  },
  {
   "cell_type": "code",
   "execution_count": 1,
   "id": "b1bbfee2",
   "metadata": {},
   "outputs": [],
   "source": [
    "# import libraries\n",
    "import nltk"
   ]
  },
  {
   "cell_type": "code",
   "execution_count": 2,
   "id": "cb684603",
   "metadata": {},
   "outputs": [
    {
     "name": "stdout",
     "output_type": "stream",
     "text": [
      "showing info https://raw.githubusercontent.com/nltk/nltk_data/gh-pages/index.xml\n"
     ]
    },
    {
     "data": {
      "text/plain": [
       "True"
      ]
     },
     "execution_count": 2,
     "metadata": {},
     "output_type": "execute_result"
    }
   ],
   "source": [
    "# download packages and resources\n",
    "nltk.download()"
   ]
  },
  {
   "cell_type": "markdown",
   "id": "f3f50dc0",
   "metadata": {},
   "source": [
    "## Tokenizing"
   ]
  },
  {
   "cell_type": "markdown",
   "id": "5e17e297",
   "metadata": {},
   "source": [
    "Grouping different words or sentences i.e. separating words and sentences"
   ]
  },
  {
   "cell_type": "markdown",
   "id": "daafc991",
   "metadata": {},
   "source": [
    "Corpora - Body of text\n",
    "lexicon - words and their meanings"
   ]
  },
  {
   "cell_type": "code",
   "execution_count": 5,
   "id": "0e6c25c3",
   "metadata": {},
   "outputs": [],
   "source": [
    "# import word and sentence tokenizer\n",
    "from nltk.tokenize import word_tokenize, sent_tokenize"
   ]
  },
  {
   "cell_type": "code",
   "execution_count": null,
   "id": "e20b2310",
   "metadata": {},
   "outputs": [],
   "source": []
  }
 ],
 "metadata": {
  "kernelspec": {
   "display_name": "Python 3 (ipykernel)",
   "language": "python",
   "name": "python3"
  },
  "language_info": {
   "codemirror_mode": {
    "name": "ipython",
    "version": 3
   },
   "file_extension": ".py",
   "mimetype": "text/x-python",
   "name": "python",
   "nbconvert_exporter": "python",
   "pygments_lexer": "ipython3",
   "version": "3.8.16"
  },
  "toc": {
   "base_numbering": 1,
   "nav_menu": {},
   "number_sections": true,
   "sideBar": true,
   "skip_h1_title": false,
   "title_cell": "Table of Contents",
   "title_sidebar": "Contents",
   "toc_cell": false,
   "toc_position": {},
   "toc_section_display": true,
   "toc_window_display": false
  }
 },
 "nbformat": 4,
 "nbformat_minor": 5
}
